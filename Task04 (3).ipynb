{
 "cells": [
  {
   "cell_type": "markdown",
   "id": "496787d5-dea5-4c6d-a1ec-12cbf371dd3f",
   "metadata": {},
   "source": [
    "# Predicting House Prices Using Boston Housing Dataset\n",
    "## 📘 Introduction\n",
    "This Jupyter Notebook presents a comprehensive end-to-end analysis of the Boston Housing Dataset to predict house prices using various machine learning models implemented from scratch."
   ]
  },
  {
   "cell_type": "markdown",
   "id": "61d96d5c-089d-4ab4-b6c2-d78c184c6c99",
   "metadata": {},
   "source": [
    "## Importing required Libraires"
   ]
  },
  {
   "cell_type": "code",
   "execution_count": 155,
   "id": "d2f561ec-e626-4989-92d4-a631b841bdbf",
   "metadata": {},
   "outputs": [],
   "source": [
    "import numpy as np\n",
    "import pandas as pd\n",
    "import matplotlib.pyplot as plt\n",
    "from sklearn.model_selection import train_test_split\n",
    "from sklearn.preprocessing import StandardScaler\n",
    "from sklearn.metrics import mean_squared_error, r2_score\n",
    "from sklearn.tree import DecisionTreeRegressor\n",
    "from sklearn.impute import SimpleImputer\n",
    "import math"
   ]
  },
  {
   "cell_type": "markdown",
   "id": "0b58650f-ac69-46a9-9955-40f305061d07",
   "metadata": {},
   "source": [
    "## Loading and Previewing Dataset"
   ]
  },
  {
   "cell_type": "code",
   "execution_count": 115,
   "id": "62f18839-fc97-4148-abb4-f6bd0d46fa72",
   "metadata": {},
   "outputs": [],
   "source": [
    "df= pd.read_csv('HousingData.csv')"
   ]
  },
  {
   "cell_type": "code",
   "execution_count": 116,
   "id": "9f7601eb-c588-4b67-a380-0ed5b6bdc112",
   "metadata": {},
   "outputs": [
    {
     "name": "stdout",
     "output_type": "stream",
     "text": [
      "      CRIM    ZN  INDUS  CHAS    NOX     RM   AGE     DIS  RAD  TAX  PTRATIO  \\\n",
      "0  0.00632  18.0   2.31   0.0  0.538  6.575  65.2  4.0900    1  296     15.3   \n",
      "1  0.02731   0.0   7.07   0.0  0.469  6.421  78.9  4.9671    2  242     17.8   \n",
      "2  0.02729   0.0   7.07   0.0  0.469  7.185  61.1  4.9671    2  242     17.8   \n",
      "3  0.03237   0.0   2.18   0.0  0.458  6.998  45.8  6.0622    3  222     18.7   \n",
      "4  0.06905   0.0   2.18   0.0  0.458  7.147  54.2  6.0622    3  222     18.7   \n",
      "\n",
      "        B  LSTAT  MEDV  \n",
      "0  396.90   4.98  24.0  \n",
      "1  396.90   9.14  21.6  \n",
      "2  392.83   4.03  34.7  \n",
      "3  394.63   2.94  33.4  \n",
      "4  396.90    NaN  36.2  \n"
     ]
    }
   ],
   "source": [
    "print(df.head())"
   ]
  },
  {
   "cell_type": "markdown",
   "id": "bd2da266-ca48-4446-b2ef-8004e44f31de",
   "metadata": {},
   "source": [
    "## Inspecting Dataset and Handling Missing Values"
   ]
  },
  {
   "cell_type": "code",
   "execution_count": 117,
   "id": "d13a8b9e-0736-4047-b6fe-f4f09867e532",
   "metadata": {},
   "outputs": [
    {
     "name": "stdout",
     "output_type": "stream",
     "text": [
      "<class 'pandas.core.frame.DataFrame'>\n",
      "RangeIndex: 506 entries, 0 to 505\n",
      "Data columns (total 14 columns):\n",
      " #   Column   Non-Null Count  Dtype  \n",
      "---  ------   --------------  -----  \n",
      " 0   CRIM     486 non-null    float64\n",
      " 1   ZN       486 non-null    float64\n",
      " 2   INDUS    486 non-null    float64\n",
      " 3   CHAS     486 non-null    float64\n",
      " 4   NOX      506 non-null    float64\n",
      " 5   RM       506 non-null    float64\n",
      " 6   AGE      486 non-null    float64\n",
      " 7   DIS      506 non-null    float64\n",
      " 8   RAD      506 non-null    int64  \n",
      " 9   TAX      506 non-null    int64  \n",
      " 10  PTRATIO  506 non-null    float64\n",
      " 11  B        506 non-null    float64\n",
      " 12  LSTAT    486 non-null    float64\n",
      " 13  MEDV     506 non-null    float64\n",
      "dtypes: float64(12), int64(2)\n",
      "memory usage: 55.5 KB\n",
      "None\n"
     ]
    }
   ],
   "source": [
    "print(df.info())"
   ]
  },
  {
   "cell_type": "code",
   "execution_count": 118,
   "id": "ced1afb6-2715-4e42-8a4e-9e9a56f94a09",
   "metadata": {},
   "outputs": [
    {
     "name": "stdout",
     "output_type": "stream",
     "text": [
      "      CRIM     ZN  INDUS   CHAS    NOX     RM    AGE    DIS    RAD    TAX  \\\n",
      "0    False  False  False  False  False  False  False  False  False  False   \n",
      "1    False  False  False  False  False  False  False  False  False  False   \n",
      "2    False  False  False  False  False  False  False  False  False  False   \n",
      "3    False  False  False  False  False  False  False  False  False  False   \n",
      "4    False  False  False  False  False  False  False  False  False  False   \n",
      "..     ...    ...    ...    ...    ...    ...    ...    ...    ...    ...   \n",
      "501  False  False  False  False  False  False  False  False  False  False   \n",
      "502  False  False  False  False  False  False  False  False  False  False   \n",
      "503  False  False  False  False  False  False  False  False  False  False   \n",
      "504  False  False  False  False  False  False  False  False  False  False   \n",
      "505  False  False  False  False  False  False   True  False  False  False   \n",
      "\n",
      "     PTRATIO      B  LSTAT   MEDV  \n",
      "0      False  False  False  False  \n",
      "1      False  False  False  False  \n",
      "2      False  False  False  False  \n",
      "3      False  False  False  False  \n",
      "4      False  False   True  False  \n",
      "..       ...    ...    ...    ...  \n",
      "501    False  False   True  False  \n",
      "502    False  False  False  False  \n",
      "503    False  False  False  False  \n",
      "504    False  False  False  False  \n",
      "505    False  False  False  False  \n",
      "\n",
      "[506 rows x 14 columns]\n"
     ]
    }
   ],
   "source": [
    "print(df.isnull())"
   ]
  },
  {
   "cell_type": "code",
   "execution_count": 154,
   "id": "6d08173b-d744-400a-a403-788dd24a7a70",
   "metadata": {},
   "outputs": [],
   "source": [
    "features= df.drop('MEDV', axis=1)\n",
    "target= df['MEDV']\n",
    "imputer= SimpleImputer(missing_values=np.nan, strategy='mean')\n",
    "X_imputed= imputer.fit_transform(X)\n",
    "X= X_imputed\n",
    "y= target"
   ]
  },
  {
   "cell_type": "markdown",
   "id": "de796efc-21e2-4a30-befa-7b4db3e8264c",
   "metadata": {},
   "source": [
    "## Data Preprocessing\n",
    "### Data Normalization\n",
    "- Normalize features using z-score standardization to ensure all features are on the same scale.\n",
    "- X_normalized contains scaled features.\n",
    "### Checking for Categorical Variables\n",
    "- Identify categorical columns for potential encoding."
   ]
  },
  {
   "cell_type": "code",
   "execution_count": 156,
   "id": "a170fd69-f39c-4a7e-baa7-6d95968beed4",
   "metadata": {},
   "outputs": [],
   "source": [
    "## Normalization z-score\n",
    "scaler= StandardScaler()\n",
    "X_normalized= pd.DataFrame(scaler.fit_transform(features), columns= features.columns)"
   ]
  },
  {
   "cell_type": "code",
   "execution_count": 131,
   "id": "12fbebd4-d9f2-4924-bf26-fb278f6faf57",
   "metadata": {},
   "outputs": [
    {
     "name": "stdout",
     "output_type": "stream",
     "text": [
      "\n",
      "Categorical columns: []\n"
     ]
    }
   ],
   "source": [
    "## Check for categorical variables\n",
    "categorical_cols= X_normalized.select_dtypes(include=['object']).columns\n",
    "print(\"\\nCategorical columns:\", list(categorical_cols))"
   ]
  },
  {
   "cell_type": "markdown",
   "id": "695b1e8a-a765-426f-b511-7640ad98a504",
   "metadata": {},
   "source": [
    "### Train-Test Split\n",
    "- Split the dataset into training (80%) and testing (20%) sets for model evaluation.\n",
    "- X_train, X_test, y_train, y_test are created."
   ]
  },
  {
   "cell_type": "code",
   "execution_count": 148,
   "id": "cc929128-fbc7-4839-9971-7806f5d23a39",
   "metadata": {},
   "outputs": [],
   "source": [
    "# Split data\n",
    "X_train, X_test, y_train, y_test = train_test_split(X_imputed, y, test_size=0.2, random_state=42)"
   ]
  },
  {
   "cell_type": "markdown",
   "id": "c7066f9b-d33f-4181-a542-93cc24af5144",
   "metadata": {},
   "source": [
    "## Model Implementation\n",
    "### Linear Regression\n",
    "- Implement linear regression manually using gradient descent.\n",
    "- Initialize weights (W) and bias (b).\n",
    "- Update weights using gradient descent.\n",
    "- Predict on the test set."
   ]
  },
  {
   "cell_type": "code",
   "execution_count": 149,
   "id": "ba25ba3c-8317-45af-a225-82c7a811d5f8",
   "metadata": {},
   "outputs": [],
   "source": [
    "## Linear Regression\n",
    "class LinearRegressionScratch:\n",
    "    def __init__(self, lr=0.01, n_iters=1000):\n",
    "        self.lr = lr\n",
    "        self.n_iters = n_iters\n",
    "\n",
    "    def fit(self, X, y):\n",
    "        self.m, self.n = X.shape\n",
    "        self.W = np.zeros(self.n)\n",
    "        self.b = 0\n",
    "        for _ in range(self.n_iters):\n",
    "            y_pred = X.dot(self.W) + self.b\n",
    "            dw = -(2/self.m) * X.T.dot(y - y_pred)\n",
    "            db = -(2/self.m) * np.sum(y - y_pred)\n",
    "            self.W -= self.lr * dw\n",
    "            self.b -= self.lr * db\n",
    "\n",
    "    def predict(self, X):\n",
    "        return X.dot(self.W) + self.b\n",
    "\n",
    "# Train and test Linear Regression\n",
    "lin_model = LinearRegressionScratch()\n",
    "lin_model.fit(X_train, y_train)\n",
    "y_pred_lin = lin_model.predict(X_test)"
   ]
  },
  {
   "cell_type": "markdown",
   "id": "548501e5-6e2f-49c9-b94f-7b8546414490",
   "metadata": {},
   "source": [
    "### Random Forest\n",
    "- Number of trees in the forest.\n",
    "- Controls randomness (default: sqrt(n_features)).\n",
    "- Limits tree depth to prevent overfitting"
   ]
  },
  {
   "cell_type": "code",
   "execution_count": 157,
   "id": "d1b05119-74b2-437e-9049-46b87f55c7f6",
   "metadata": {},
   "outputs": [],
   "source": [
    "## Random Forest\n",
    "class RandomForestScratch:\n",
    "    def __init__(self, n_estimators=10, max_features='sqrt', max_depth=None):\n",
    "        self.n_estimators = n_estimators\n",
    "        self.max_features = max_features\n",
    "        self.max_depth = max_depth\n",
    "        self.trees = []\n",
    "\n",
    "    def fit(self, X, y):\n",
    "        self.trees = []\n",
    "        \n",
    "        # Convert to numpy array if pandas DataFrame\n",
    "        if isinstance(X, pd.DataFrame):\n",
    "            X = X.values\n",
    "        if isinstance(y, pd.Series):\n",
    "            y = y.values\n",
    "            \n",
    "        n_samples, n_features = X.shape\n",
    "        \n",
    "        # Determine number of features to consider at each split\n",
    "        if self.max_features == 'sqrt':\n",
    "            max_feat = int(np.sqrt(n_features))\n",
    "        elif isinstance(self.max_features, int):\n",
    "            max_feat = self.max_features\n",
    "        else:\n",
    "            max_feat = n_features\n",
    "\n",
    "        for _ in range(self.n_estimators):\n",
    "            # Bootstrap sample (with replacement)\n",
    "            indices = np.random.choice(n_samples, size=n_samples, replace=True)\n",
    "            \n",
    "            # Random feature selection (without replacement)\n",
    "            feat_indices = np.random.choice(n_features, size=max_feat, replace=False)\n",
    "            \n",
    "            # Get subset of data\n",
    "            x_sample = X[indices][:, feat_indices]\n",
    "            y_sample = y[indices]\n",
    "            \n",
    "            # Create and fit tree\n",
    "            tree = DecisionTreeRegressor(max_depth=self.max_depth)\n",
    "            tree.fit(x_sample, y_sample)\n",
    "            self.trees.append((tree, feat_indices))\n",
    "\n",
    "    def predict(self, X):\n",
    "        # Convert to numpy array if pandas DataFrame\n",
    "        if isinstance(X, pd.DataFrame):\n",
    "            X = X.values\n",
    "            \n",
    "        preds = np.zeros((X.shape[0], len(self.trees)))\n",
    "        \n",
    "        for i, (tree, feat_indices) in enumerate(self.trees):\n",
    "            preds[:, i] = tree.predict(X[:, feat_indices])\n",
    "            \n",
    "        return np.mean(preds, axis=1)\n",
    "\n",
    "# Train and test Random Forest\n",
    "rf_model = RandomForestScratch(n_estimators=20, max_depth=5)\n",
    "rf_model.fit(X_train, y_train)\n",
    "y_pred_rf = rf_model.predict(X_test)"
   ]
  },
  {
   "cell_type": "markdown",
   "id": "ff5b051a-879a-4269-82a7-015f44f7e346",
   "metadata": {},
   "source": [
    "### XG Boost\n",
    "- Implement XGBoost manually using gradient boosting.\n",
    "- Fits trees to residuals iteratively.\n",
    "- Uses learning rate to control updates."
   ]
  },
  {
   "cell_type": "code",
   "execution_count": 151,
   "id": "2e85763e-e5c6-4a83-bf76-c38a92f28553",
   "metadata": {},
   "outputs": [],
   "source": [
    "## XG Boost\n",
    "class XGBoostScratch:\n",
    "    def __init__(self, n_estimators=50, learning_rate=0.1, max_depth=3, min_samples_split=2):\n",
    "        self.n_estimators = n_estimators\n",
    "        self.learning_rate = learning_rate\n",
    "        self.max_depth = max_depth\n",
    "        self.min_samples_split = min_samples_split\n",
    "        self.models = []\n",
    "    \n",
    "    def fit(self, X, y):\n",
    "        # Convert to numpy arrays if pandas objects\n",
    "        if isinstance(X, pd.DataFrame):\n",
    "            X = X.values\n",
    "        if isinstance(y, (pd.Series, pd.DataFrame)):\n",
    "            y = y.values\n",
    "            \n",
    "        # Initialize predictions\n",
    "        pred = np.zeros_like(y)\n",
    "        \n",
    "        for _ in range(self.n_estimators):\n",
    "            # Calculate residuals (negative gradients)\n",
    "            residual = y - pred\n",
    "            \n",
    "            # Fit a decision tree to the residuals\n",
    "            tree = DecisionTreeRegressor(max_depth=self.max_depth)\n",
    "            tree.fit(X, residual)\n",
    "            \n",
    "            # Get predictions from the tree\n",
    "            update = tree.predict(X)\n",
    "            \n",
    "            # Update our predictions\n",
    "            pred += self.learning_rate * update\n",
    "            \n",
    "            # Store the model\n",
    "            self.models.append(tree)\n",
    "    \n",
    "    def predict(self, X):\n",
    "        # Convert to numpy array if pandas DataFrame\n",
    "        if isinstance(X, pd.DataFrame):\n",
    "            X = X.values\n",
    "            \n",
    "        # Initialize predictions\n",
    "        pred = np.zeros(X.shape[0])\n",
    "        \n",
    "        # Add predictions from all trees\n",
    "        for tree in self.models:\n",
    "            pred += self.learning_rate * tree.predict(X)\n",
    "            \n",
    "        return pred\n",
    "\n",
    "# Train and test XGBoost\n",
    "xgb_model = XGBoostScratch(n_estimators=100, learning_rate=0.1, max_depth=3)\n",
    "xgb_model.fit(X_train, y_train)\n",
    "y_pred_xgb = xgb_model.predict(X_test)"
   ]
  },
  {
   "cell_type": "markdown",
   "id": "848a2686-7b2b-480e-9a46-8f0caf33d5bc",
   "metadata": {},
   "source": [
    "## Performance Comparison\n",
    "### Model Evaluation\n",
    "- Evaluate models using RMSE and R² scores.\n",
    "- XGBoost performs best with the lowest RMSE and highest R²"
   ]
  },
  {
   "cell_type": "code",
   "execution_count": 152,
   "id": "80d1e2ab-8a8f-42a4-b5f9-67a8950aff81",
   "metadata": {},
   "outputs": [
    {
     "name": "stdout",
     "output_type": "stream",
     "text": [
      "\n",
      "Model Evaluation:\n",
      "Linear Regression:\n",
      "  RMSE = 5.0309\n",
      "  R² = 0.6549\n",
      "------------------------------\n",
      "Random Forest:\n",
      "  RMSE = 4.7621\n",
      "  R² = 0.6908\n",
      "------------------------------\n",
      "XGBoost:\n",
      "  RMSE = 2.6601\n",
      "  R² = 0.9035\n",
      "------------------------------\n"
     ]
    }
   ],
   "source": [
    "## Performance comparison\n",
    "def evaluate_model(name, y_true, y_pred):\n",
    "    \"\"\"\n",
    "    Evaluate regression model performance metrics\n",
    "    \n",
    "    Parameters:\n",
    "    name (str): Model name for display\n",
    "    y_true (array-like): Ground truth target values\n",
    "    y_pred (array-like): Predicted target values\n",
    "    \n",
    "    Returns:\n",
    "    None (prints evaluation metrics)\n",
    "    \"\"\"\n",
    "    try:\n",
    "        # Convert to numpy arrays if they aren't already\n",
    "        y_true = np.array(y_true).ravel()\n",
    "        y_pred = np.array(y_pred).ravel()\n",
    "        \n",
    "        # Calculate metrics\n",
    "        rmse = np.sqrt(mean_squared_error(y_true, y_pred))\n",
    "        r2 = r2_score(y_true, y_pred)\n",
    "        \n",
    "        # Print formatted results\n",
    "        print(f\"{name}:\")\n",
    "        print(f\"  RMSE = {rmse:.4f}\")\n",
    "        print(f\"  R² = {r2:.4f}\")\n",
    "        print(\"-\" * 30)\n",
    "        \n",
    "    except Exception as e:\n",
    "        print(f\"Error evaluating {name}: {str(e)}\")\n",
    "\n",
    "# Evaluate all models\n",
    "print(\"\\nModel Evaluation:\")\n",
    "evaluate_model(\"Linear Regression\", y_test, y_pred_lin)\n",
    "evaluate_model(\"Random Forest\", y_test, y_pred_rf) \n",
    "evaluate_model(\"XGBoost\", y_test, y_pred_xgb)"
   ]
  },
  {
   "cell_type": "markdown",
   "id": "f78a6b3a-039e-4639-b676-b97b6fe7fd5e",
   "metadata": {},
   "source": [
    "## Feature Importance Analysis\n",
    "### Comparing Random Forest and XG Boost"
   ]
  },
  {
   "cell_type": "code",
   "execution_count": 128,
   "id": "9585bc92-c274-4beb-a504-dcde855d9123",
   "metadata": {},
   "outputs": [
    {
     "name": "stdout",
     "output_type": "stream",
     "text": [
      "\n",
      "Random Forest Feature Importance:\n"
     ]
    },
    {
     "data": {
      "image/png": "[encoded data removed]",
      "text/plain": [
       "<Figure size 1000x600 with 1 Axes>"
      ]
     },
     "metadata": {},
     "output_type": "display_data"
    },
    {
     "name": "stdout",
     "output_type": "stream",
     "text": [
      "\n",
      "XGBoost Feature Importance:\n"
     ]
    },
    {
     "data": {
      "image/png": "[encoded data removed]",
      "text/plain": [
       "<Figure size 1000x600 with 1 Axes>"
      ]
     },
     "metadata": {},
     "output_type": "display_data"
    }
   ],
   "source": [
    "## Feature Importance\n",
    "def plot_feature_importance(model, feature_names, title):\n",
    "    \"\"\"Plot feature importance for different model types.\"\"\"\n",
    "    try:\n",
    "        # Initialize importance with zeros as default\n",
    "        importance = np.zeros(len(feature_names))\n",
    "        \n",
    "        # Get feature importance based on model type\n",
    "        if hasattr(model, 'weights'):  # Linear Regression\n",
    "            importance = np.abs(model.weights.ravel())\n",
    "        elif hasattr(model, 'trees'):  # Random Forest\n",
    "            for tree, feature_indices in getattr(model, 'trees', []):\n",
    "                if isinstance(feature_indices, np.ndarray):\n",
    "                    tree_importance = np.zeros(len(feature_names))\n",
    "                    for idx in feature_indices:\n",
    "                        tree_importance[idx] += 1  # Count feature usage\n",
    "                    importance += tree_importance\n",
    "            importance = importance / model.n_estimators\n",
    "        elif hasattr(model, 'models'):  # XGBoost\n",
    "            for tree in model.models:\n",
    "                # Simplified feature importance for XGBoost\n",
    "                # Count how many times each feature is used in splits\n",
    "                tree_importance = np.zeros(len(feature_names))\n",
    "                # This would need actual tree traversal to count feature usage\n",
    "                # For simplicity, we'll just count features used in the first split\n",
    "                if hasattr(tree, 'tree') and 'feature' in tree.tree:\n",
    "                    feature_idx = tree.tree['feature']\n",
    "                    if isinstance(feature_idx, int) and feature_idx < len(feature_names):\n",
    "                        tree_importance[feature_idx] += 1\n",
    "                importance += tree_importance\n",
    "            importance = importance / len(model.models)\n",
    "        else:\n",
    "            print(f\"Warning: Unsupported model type {type(model)}\")\n",
    "            return  # Exit if model type not supported\n",
    "        \n",
    "        # Sort features by importance\n",
    "        indices = np.argsort(importance)[::-1]\n",
    "        sorted_importance = importance[indices]\n",
    "        sorted_features = feature_names[indices]\n",
    "        \n",
    "        # Create plot\n",
    "        plt.figure(figsize=(10, 6))\n",
    "        bars = plt.bar(range(len(feature_names)), sorted_importance)\n",
    "        plt.title(title)\n",
    "        plt.xticks(range(len(feature_names)), sorted_features, rotation=45, ha='right')\n",
    "        \n",
    "        # Add value labels on top of bars\n",
    "        for bar in bars:\n",
    "            height = bar.get_height()\n",
    "            plt.text(bar.get_x() + bar.get_width()/2., height,\n",
    "                    f'{height:.2f}',\n",
    "                    ha='center', va='bottom')\n",
    "        \n",
    "        plt.tight_layout()\n",
    "        plt.show()\n",
    "        \n",
    "    except Exception as e:\n",
    "        print(f\"Error plotting feature importance: {str(e)}\")\n",
    "\n",
    "# Plot feature importance for models\n",
    "feature_names = np.array(X.columns)\n",
    "\n",
    "print(\"\\nRandom Forest Feature Importance:\")\n",
    "plot_feature_importance(rf_model, feature_names, \"Random Forest Feature Importance\")\n",
    "\n",
    "print(\"\\nXGBoost Feature Importance:\")\n",
    "plot_feature_importance(xgb_model, feature_names, \"XGBoost Feature Importance\")"
   ]
  },
  {
   "cell_type": "markdown",
   "id": "dde10edd-5a89-4536-beb5-a453d1ccd24d",
   "metadata": {},
   "source": [
    "## 🔍 Summary\n",
    "This notebook performs regression analysis on a housing dataset using:\n",
    "- A custom Linear Regression model implemented from scratch.\n",
    "- A Random Forest Regressor using scikit-learn.\n",
    "- The goal is to predict median home values (MEDV) based on various housing features. The process includes data preprocessing, normalization, handling missing values, and model evaluation using Mean Squared Error (MSE) and R² score.\n",
    "\n",
    "## 📌 Key Findings\n",
    "- Normalization (Z-score scaling) is applied to features to bring them onto a common scale.\n",
    "- No categorical variables were found, simplifying preprocessing.\n",
    "- Missing values were imputed using the mean strategy.\n",
    "The custom Linear Regression and Decision Tree Regressor models were trained and evaluated.\n",
    "\n",
    "Model performance was measured using MSE and R² score.\n",
    "\n",
    "Plots were used to visually assess model prediction quality.\n",
    "\n",
    "🧭 Step-by-Step Documentation"
   ]
  }
 ],
 "metadata": {
  "kernelspec": {
   "display_name": "Python 3 (ipykernel)",
   "language": "python",
   "name": "python3"
  },
  "language_info": {
   "codemirror_mode": {
    "name": "ipython",
    "version": 3
   },
   "file_extension": ".py",
   "mimetype": "text/x-python",
   "name": "python",
   "nbconvert_exporter": "python",
   "pygments_lexer": "ipython3",
   "version": "3.11.9"
  }
 },
 "nbformat": 4,
 "nbformat_minor": 5
}
